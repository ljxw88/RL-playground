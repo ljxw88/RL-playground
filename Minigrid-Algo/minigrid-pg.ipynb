{
 "cells": [
  {
   "cell_type": "code",
   "execution_count": 1,
   "metadata": {},
   "outputs": [],
   "source": [
    "import numpy as np\n",
    "import matplotlib.pyplot as plt\n",
    "from pprint import pprint\n",
    "\n",
    "%matplotlib inline\n",
    "plt.rcParams['figure.figsize'] = (10.0, 8.0) # set default size of plots\n",
    "plt.rcParams['image.interpolation'] = 'nearest'\n",
    "plt.rcParams['image.cmap'] = 'gray'\n",
    "\n",
    "# for auto-reloading external modules\n",
    "# see http://stackoverflow.com/questions/1907993/autoreload-of-modules-in-ipython\n",
    "%load_ext autoreload\n",
    "%autoreload 2"
   ]
  },
  {
   "cell_type": "code",
   "execution_count": 2,
   "metadata": {},
   "outputs": [
    {
     "data": {
      "image/png": "[encoded data removed]",
      "text/plain": [
       "<Figure size 1000x800 with 1 Axes>"
      ]
     },
     "metadata": {},
     "output_type": "display_data"
    }
   ],
   "source": [
    "import gym\n",
    "import gym_minigrid\n",
    "\n",
    "env = gym.make('MiniGrid-Empty-5x5-v0')\n",
    "env.reset()\n",
    "before_img = env.render('rgb_array')\n",
    "action = env.actions.forward\n",
    "obs, reward, done, info = env.step(action)\n",
    "after_img = env.render('rgb_array')\n",
    "\n",
    "plt.imshow(np.concatenate([before_img, after_img], 1));"
   ]
  },
  {
   "cell_type": "code",
   "execution_count": 3,
   "metadata": {},
   "outputs": [
    {
     "name": "stdout",
     "output_type": "stream",
     "text": [
      "Observation: {'image': array([[[2, 5, 0],\n",
      "        [1, 0, 0],\n",
      "        [1, 0, 0],\n",
      "        [1, 0, 0],\n",
      "        [1, 0, 0],\n",
      "        [1, 0, 0],\n",
      "        [1, 0, 0]],\n",
      "\n",
      "       [[2, 5, 0],\n",
      "        [1, 0, 0],\n",
      "        [1, 0, 0],\n",
      "        [1, 0, 0],\n",
      "        [1, 0, 0],\n",
      "        [1, 0, 0],\n",
      "        [1, 0, 0]],\n",
      "\n",
      "       [[2, 5, 0],\n",
      "        [1, 0, 0],\n",
      "        [1, 0, 0],\n",
      "        [1, 0, 0],\n",
      "        [1, 0, 0],\n",
      "        [1, 0, 0],\n",
      "        [1, 0, 0]],\n",
      "\n",
      "       [[2, 5, 0],\n",
      "        [1, 0, 0],\n",
      "        [1, 0, 0],\n",
      "        [1, 0, 0],\n",
      "        [1, 0, 0],\n",
      "        [1, 0, 0],\n",
      "        [1, 0, 0]],\n",
      "\n",
      "       [[2, 5, 0],\n",
      "        [2, 5, 0],\n",
      "        [2, 5, 0],\n",
      "        [2, 5, 0],\n",
      "        [2, 5, 0],\n",
      "        [2, 5, 0],\n",
      "        [2, 5, 0]],\n",
      "\n",
      "       [[2, 5, 0],\n",
      "        [2, 5, 0],\n",
      "        [2, 5, 0],\n",
      "        [2, 5, 0],\n",
      "        [2, 5, 0],\n",
      "        [2, 5, 0],\n",
      "        [2, 5, 0]],\n",
      "\n",
      "       [[2, 5, 0],\n",
      "        [2, 5, 0],\n",
      "        [2, 5, 0],\n",
      "        [2, 5, 0],\n",
      "        [2, 5, 0],\n",
      "        [2, 5, 0],\n",
      "        [2, 5, 0]]], dtype=uint8), 'direction': 1, 'mission': 'get to the green goal square'}\n",
      "Reward: 0\n",
      "Done: False\n",
      "Info: {}\n",
      "Image shape: (256, 256, 3)\n"
     ]
    },
    {
     "data": {
      "image/png": "[encoded data removed]",
      "text/plain": [
       "<Figure size 1000x800 with 1 Axes>"
      ]
     },
     "metadata": {},
     "output_type": "display_data"
    }
   ],
   "source": [
    "env = gym.make('MiniGrid-Empty-8x8-v0')\n",
    "\n",
    "# Reset the environment\n",
    "env.reset()\n",
    "\n",
    "# Select the action right (sample action)\n",
    "action = env.actions.right\n",
    "\n",
    "# Take a step in the environment and store it in appropriate variables\n",
    "obs, reward, done, info = env.step(action)\n",
    "\n",
    "# Render the current state of the environment\n",
    "img = env.render('rgb_array')\n",
    "\n",
    "print('Observation:', obs)\n",
    "print('Reward:', reward)\n",
    "print('Done:', done)\n",
    "print('Info:', info)\n",
    "print('Image shape:', img.shape)\n",
    "plt.imshow(img);"
   ]
  },
  {
   "cell_type": "code",
   "execution_count": 4,
   "metadata": {},
   "outputs": [],
   "source": [
    "import base64\n",
    "import glob\n",
    "import io\n",
    "from IPython.display import HTML\n",
    "from IPython import display \n",
    "\n",
    "def show_video():\n",
    "    mp4list = glob.glob('video/*.mp4')\n",
    "    if len(mp4list) > 0:\n",
    "        mp4 = mp4list[0]\n",
    "        video = io.open(mp4, 'r+b').read()\n",
    "        encoded = base64.b64encode(video)\n",
    "        display.display(HTML(data='''<video alt=\"test\" autoplay \n",
    "                loop controls style=\"height: 400px;\">\n",
    "                <source src=\"data:video/mp4;base64,{0}\" type=\"video/mp4\" />\n",
    "             </video>'''.format(encoded.decode('ascii'))))\n",
    "    else:\n",
    "        print(\"Could not find video\")"
   ]
  },
  {
   "cell_type": "code",
   "execution_count": 5,
   "metadata": {},
   "outputs": [],
   "source": [
    "import gym\n",
    "from gym import spaces\n",
    "from gym_minigrid.minigrid import OBJECT_TO_IDX, COLOR_TO_IDX\n",
    "\n",
    "max_env_steps = 50\n",
    "\n",
    "class FlatObsWrapper(gym.core.ObservationWrapper):\n",
    "    \"\"\"Fully observable gridworld returning a flat grid encoding.\"\"\"\n",
    "\n",
    "    def __init__(self, env):\n",
    "        super().__init__(env)\n",
    "\n",
    "        # Since the outer walls are always present, we remove left, right, top, bottom walls\n",
    "        # from the observation space of the agent. There are 3 channels, but for simplicity\n",
    "        # in this assignment, we will deal with flattened version of state.\n",
    "        \n",
    "        self.observation_space = spaces.Box(\n",
    "            low=0,\n",
    "            high=255,\n",
    "            shape=((self.env.width-2) * (self.env.height-2) * 3,),  # number of cells\n",
    "            dtype='uint8'\n",
    "        )\n",
    "        self.unwrapped.max_steps = max_env_steps\n",
    "\n",
    "    def observation(self, obs):\n",
    "        # this method is called in the step() function to get the observation\n",
    "        # we provide code that gets the grid state and places the agent in it\n",
    "        env = self.unwrapped\n",
    "        full_grid = env.grid.encode()\n",
    "        full_grid[env.agent_pos[0]][env.agent_pos[1]] = np.array([\n",
    "            OBJECT_TO_IDX['agent'],\n",
    "            COLOR_TO_IDX['red'],\n",
    "            env.agent_dir\n",
    "        ])\n",
    "        full_grid = full_grid[1:-1, 1:-1]   # remove outer walls of the environment (for efficiency)\n",
    "        \n",
    "        flattened_grid = full_grid.ravel()\n",
    "        return flattened_grid\n",
    "    \n",
    "    def render(self, *args, **kwargs):\n",
    "        \"\"\"This removes the default visualization of the partially observable field of view.\"\"\"\n",
    "        kwargs['highlight'] = False\n",
    "        return self.unwrapped.render(*args, **kwargs)"
   ]
  },
  {
   "cell_type": "code",
   "execution_count": 6,
   "metadata": {},
   "outputs": [
    {
     "name": "stdout",
     "output_type": "stream",
     "text": [
      "Observation: [10  0  1  1  0  0  1  0  0  1  0  0  1  0  0  1  0  0  1  0  0  1  0  0\n",
      "  1  0  0  1  0  0  1  0  0  1  0  0  1  0  0  1  0  0  1  0  0  1  0  0\n",
      "  1  0  0  1  0  0  1  0  0  1  0  0  1  0  0  1  0  0  1  0  0  1  0  0\n",
      "  1  0  0  1  0  0  1  0  0  1  0  0  1  0  0  1  0  0  1  0  0  1  0  0\n",
      "  1  0  0  1  0  0  1  0  0  8  1  0] , Observation Shape:  (108,)\n",
      "Reward: 0\n",
      "Done: False\n",
      "Info: {}\n",
      "Image shape: (256, 256, 3)\n"
     ]
    },
    {
     "data": {
      "text/plain": [
       "<matplotlib.image.AxesImage at 0x7f14e0082f50>"
      ]
     },
     "execution_count": 6,
     "metadata": {},
     "output_type": "execute_result"
    },
    {
     "data": {
      "image/png": "[encoded data removed]",
      "text/plain": [
       "<Figure size 1000x800 with 1 Axes>"
      ]
     },
     "metadata": {},
     "output_type": "display_data"
    }
   ],
   "source": [
    "env = FlatObsWrapper(gym.make('MiniGrid-Empty-8x8-v0'))\n",
    "\n",
    "# Reset the environment\n",
    "env.reset()\n",
    "\n",
    "# Select the action right\n",
    "action = env.actions.right\n",
    "\n",
    "# Take a step in the environment and store it in appropriate variables\n",
    "obs, reward, done, info = env.step(action)\n",
    "\n",
    "# Render the current state of the environment\n",
    "img = env.render('rgb_array')\n",
    "################# YOUR CODE ENDS HERE ###############################\n",
    "\n",
    "print('Observation:', obs, ', Observation Shape: ', obs.shape)\n",
    "print('Reward:', reward)\n",
    "print('Done:', done)\n",
    "print('Info:', info)\n",
    "print('Image shape:', img.shape)\n",
    "plt.imshow(img)"
   ]
  },
  {
   "cell_type": "code",
   "execution_count": 7,
   "metadata": {},
   "outputs": [],
   "source": [
    "from gym.wrappers import Monitor\n",
    "\n",
    "# Monitor is a gym wrapper, which helps easy rendering of videos of the wrapped environment.\n",
    "def wrap_env(env):\n",
    "    env = Monitor(env, './video', force=True)\n",
    "    return env\n",
    "\n",
    "def gen_wrapped_env(env_name):\n",
    "    return wrap_env(FlatObsWrapper(gym.make(env_name)))"
   ]
  },
  {
   "cell_type": "code",
   "execution_count": 8,
   "metadata": {},
   "outputs": [],
   "source": [
    "class RandPolicy:\n",
    "    def __init__(self, action_space):\n",
    "        self.action_space = action_space\n",
    "        \n",
    "    def act(self, *unused_args):\n",
    "        return self.action_space.sample(), None"
   ]
  },
  {
   "cell_type": "code",
   "execution_count": 9,
   "metadata": {},
   "outputs": [
    {
     "name": "stdout",
     "output_type": "stream",
     "text": [
      "Total reward: 0\n",
      "Total length: 50\n"
     ]
    },
    {
     "data": {
      "text/html": [
       "<video alt=\"test\" autoplay \n",
       "                loop controls style=\"height: 400px;\">\n",
       "                <source src=\"data:video/mp4;base64,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\" type=\"video/mp4\" />\n",
       "             </video>"
      ],
      "text/plain": [
       "<IPython.core.display.HTML object>"
      ]
     },
     "metadata": {},
     "output_type": "display_data"
    }
   ],
   "source": [
    "import torch\n",
    "def log_policy_rollout(policy, env_name, pytorch_policy=False):\n",
    "    # Create environment with flat observation\n",
    "    env = gen_wrapped_env(env_name)\n",
    "\n",
    "    # Initialize environment\n",
    "    observation = env.reset()\n",
    "\n",
    "    done = False\n",
    "    episode_reward = 0\n",
    "    episode_length = 0\n",
    "\n",
    "    # Run until done == True\n",
    "    while not done:\n",
    "      # Take a step\n",
    "        if pytorch_policy: \n",
    "            observation = torch.tensor(observation, dtype=torch.float32)\n",
    "            action = policy.act(observation)[0].data.cpu().numpy()\n",
    "        else:\n",
    "            action = policy.act(observation)[0]\n",
    "        observation, reward, done, info = env.step(action)\n",
    "\n",
    "        episode_reward += reward\n",
    "        episode_length += 1\n",
    "\n",
    "    print('Total reward:', episode_reward)\n",
    "    print('Total length:', episode_length)\n",
    "\n",
    "    env.close()\n",
    "    \n",
    "    show_video()\n",
    "\n",
    "# Test that the logging function is working\n",
    "test_env_name = 'MiniGrid-Empty-8x8-v0'\n",
    "rand_policy = RandPolicy(FlatObsWrapper(gym.make(test_env_name)).action_space)\n",
    "log_policy_rollout(rand_policy, test_env_name)"
   ]
  },
  {
   "cell_type": "code",
   "execution_count": 13,
   "metadata": {},
   "outputs": [],
   "source": [
    "from torch.utils.data.sampler import BatchSampler, SubsetRandomSampler\n",
    "\n",
    "class RolloutBuffer():\n",
    "    def __init__(self, rollout_size, obs_size):\n",
    "        self.rollout_size = rollout_size\n",
    "        self.obs_size = obs_size\n",
    "        self.reset()\n",
    "        \n",
    "    def insert(self, step, done, action, log_prob, reward, obs):    \n",
    "        self.done[step].copy_(done)\n",
    "        self.actions[step].copy_(action)\n",
    "        self.log_probs[step].copy_(log_prob)\n",
    "        self.rewards[step].copy_(reward)\n",
    "        self.obs[step].copy_(obs)\n",
    "        \n",
    "    def reset(self):\n",
    "        self.done = torch.zeros(self.rollout_size, 1)\n",
    "        self.returns = torch.zeros(self.rollout_size + 1, 1, requires_grad=False)\n",
    "        # Assuming Discrete Action Space\n",
    "        self.actions = torch.zeros(self.rollout_size, 1, dtype=torch.int64)  \n",
    "        self.log_probs = torch.zeros(self.rollout_size, 1)\n",
    "        self.rewards = torch.zeros(self.rollout_size, 1)\n",
    "        self.obs = torch.zeros(self.rollout_size, self.obs_size)\n",
    "        \n",
    "    def compute_returns(self, gamma):\n",
    "        # Compute Returns until the last finished episode\n",
    "        self.last_done = (self.done == 1).nonzero().max()  \n",
    "        self.returns[self.last_done + 1] = 0.\n",
    "\n",
    "        # Accumulate discounted returns\n",
    "        for step in reversed(range(self.last_done + 1)):\n",
    "            self.returns[step] = self.returns[step + 1] * \\\n",
    "                gamma * (1 - self.done[step]) + self.rewards[step]\n",
    "        \n",
    "    def batch_sampler(self, batch_size, get_old_log_probs=False):\n",
    "        sampler = BatchSampler(\n",
    "            SubsetRandomSampler(range(self.last_done)),\n",
    "            batch_size,\n",
    "            drop_last=True)\n",
    "        for indices in sampler:\n",
    "            if get_old_log_probs:\n",
    "                yield self.actions[indices], self.returns[indices], self.obs[indices], self.log_probs[indices]\n",
    "            else:\n",
    "                yield self.actions[indices], self.returns[indices], self.obs[indices]"
   ]
  },
  {
   "cell_type": "code",
   "execution_count": 14,
   "metadata": {},
   "outputs": [],
   "source": [
    "import torch\n",
    "import torch.nn as nn\n",
    "\n",
    "class ActorNetwork(nn.Module):\n",
    "    def __init__(self, num_inputs, num_actions, hidden_dim):\n",
    "        super().__init__()\n",
    "        self.num_actions = num_actions\n",
    "        \n",
    "        self.fc = nn.Sequential(\n",
    "            nn.Linear(num_inputs, hidden_dim),\n",
    "            nn.Tanh(),\n",
    "            nn.Linear(hidden_dim, hidden_dim),\n",
    "            nn.Tanh(),\n",
    "            nn.Linear(hidden_dim, num_actions)\n",
    "        )\n",
    "        \n",
    "    def forward(self, state):\n",
    "        x = self.fc(state)\n",
    "        return x"
   ]
  },
  {
   "cell_type": "code",
   "execution_count": 15,
   "metadata": {},
   "outputs": [],
   "source": [
    "import torch.optim as optim\n",
    "import torch.nn.functional as F\n",
    "from torch.distributions.categorical import Categorical\n",
    "from utils.utils import count_model_params\n",
    "\n",
    "class Policy():\n",
    "    def __init__(self, num_inputs, num_actions, hidden_dim, learning_rate,\n",
    "                 batch_size, policy_epochs, entropy_coef=0.001):\n",
    "        self.actor = ActorNetwork(num_inputs, num_actions, hidden_dim)\n",
    "        self.optimizer = optim.Adam(self.actor.parameters(), lr=learning_rate)\n",
    "        self.batch_size = batch_size\n",
    "        self.policy_epochs = policy_epochs\n",
    "        self.entropy_coef = entropy_coef\n",
    "\n",
    "    def act(self, state):\n",
    "        logits = self.actor(state)\n",
    "        # To generate the probability of action, we assume its state has categorical distribution.\n",
    "        dist = Categorical(logits=logits)\n",
    "        action = dist.sample()\n",
    "        log_prob = dist.log_prob(action)\n",
    "        return action, log_prob\n",
    "    \n",
    "    def evaluate_actions(self, state, action):\n",
    "        logits = self.actor(state)\n",
    "        dist = Categorical(logits=logits)\n",
    "        log_prob = dist.log_prob(action.squeeze(-1)).view(-1, 1)\n",
    "        entropy = dist.entropy().view(-1, 1)\n",
    "        return log_prob, entropy\n",
    "    \n",
    "    def update(self, rollouts):\n",
    "        for epoch in range(self.policy_epochs):\n",
    "            data = rollouts.batch_sampler(self.batch_size)\n",
    "            \n",
    "            for sample in data:\n",
    "                actions_batch, returns_batch, obs_batch = sample\n",
    "    \n",
    "                log_probs_batch, entropy_batch = self.evaluate_actions(obs_batch, actions_batch)\n",
    "    \n",
    "                # Compute the mean loss for the policy update using \n",
    "                # action log-probabilities and policy returns\n",
    "                policy_loss = -(log_probs_batch * returns_batch).mean()\n",
    "                # Compute the mean entropy for the policy update \n",
    "                entropy_loss = -entropy_batch.mean()\n",
    "                \n",
    "                loss = policy_loss + self.entropy_coef * entropy_loss\n",
    "                \n",
    "                self.optimizer.zero_grad()\n",
    "                loss.backward(retain_graph=False)\n",
    "                self.optimizer.step()\n",
    "                \n",
    "    @property\n",
    "    def num_params(self):\n",
    "        return count_model_params(self.actor)"
   ]
  },
  {
   "cell_type": "code",
   "execution_count": 16,
   "metadata": {},
   "outputs": [],
   "source": [
    "from IPython.display import clear_output\n",
    "from utils.utils import AverageMeter, plot_learning_curve\n",
    "import time\n",
    "\n",
    "def train(env, rollouts, policy, params, seed=123):\n",
    "    # SETTING SEED: it is good practice to set seeds when running experiments to keep results comparable\n",
    "    np.random.seed(seed)\n",
    "    torch.manual_seed(seed)\n",
    "    env.seed(seed)\n",
    "\n",
    "    rollout_time, update_time = AverageMeter(), AverageMeter()  # Loggers\n",
    "    rewards, success_rate = [], []\n",
    "\n",
    "    print(\"Training model with {} parameters...\".format(policy.num_params))\n",
    "\n",
    "    # Training Loop\n",
    "    for j in range(params.num_updates):\n",
    "        ## Initialization\n",
    "        avg_eps_reward, avg_success_rate = AverageMeter(), AverageMeter()\n",
    "        done = False\n",
    "        prev_obs = env.reset()\n",
    "        prev_obs = torch.tensor(prev_obs, dtype=torch.float32)\n",
    "        eps_reward = 0.\n",
    "        start_time = time.time()\n",
    "        \n",
    "        ## Collect rollouts\n",
    "        for step in range(rollouts.rollout_size):\n",
    "            if done:\n",
    "                # Store episode statistics\n",
    "                avg_eps_reward.update(eps_reward)\n",
    "                if 'success' in info: \n",
    "                    avg_success_rate.update(int(info['success']))\n",
    "\n",
    "                # Reset Environment\n",
    "                obs = env.reset()\n",
    "                obs = torch.tensor(obs, dtype=torch.float32)\n",
    "                eps_reward = 0.\n",
    "            else:\n",
    "                obs = prev_obs\n",
    "\n",
    "            action, log_prob = policy.act(obs)\n",
    "            obs, reward, done, info = env.step(action)\n",
    "\n",
    "            rollouts.insert(step, torch.tensor(done, dtype=torch.float32), action, log_prob, \n",
    "                            torch.tensor(reward, dtype=torch.float32), \n",
    "                            prev_obs)\n",
    "            \n",
    "            prev_obs = torch.tensor(obs, dtype=torch.float32)\n",
    "            eps_reward += reward\n",
    "        \n",
    "        # Use the rollout buffer's function to compute the returns for all stored rollout steps. (requires just 1 line)\n",
    "        rollouts.compute_returns(params['discount'])\n",
    "        \n",
    "        rollout_done_time = time.time()\n",
    "\n",
    "        \n",
    "        # Call the policy's update function using the collected rollouts        \n",
    "        policy.update(rollouts)\n",
    "\n",
    "        update_done_time = time.time()\n",
    "        rollouts.reset()\n",
    "\n",
    "        ## log metrics\n",
    "        rewards.append(avg_eps_reward.avg)\n",
    "        if avg_success_rate.count > 0:\n",
    "            success_rate.append(avg_success_rate.avg)\n",
    "        rollout_time.update(rollout_done_time - start_time)\n",
    "        update_time.update(update_done_time - rollout_done_time)\n",
    "        print('it {}: avgR: {:.3f} -- rollout_time: {:.3f}sec -- update_time: {:.3f}sec'.format(j, \n",
    "                                                                                                avg_eps_reward.avg, \n",
    "                                                                                                rollout_time.avg,\n",
    "                                                                                                update_time.avg))\n",
    "        if j % params.plotting_iters == 0 and j != 0:\n",
    "            plot_learning_curve(rewards, success_rate, params.num_updates)\n",
    "            log_policy_rollout(policy, params.env_name, pytorch_policy=True)\n",
    "    clear_output()   # this removes all training outputs to keep the notebook clean, DON'T REMOVE THIS LINE!\n",
    "    return rewards, success_rate"
   ]
  },
  {
   "cell_type": "code",
   "execution_count": 26,
   "metadata": {},
   "outputs": [
    {
     "name": "stdout",
     "output_type": "stream",
     "text": [
      "(108,)\n"
     ]
    }
   ],
   "source": [
    "from utils.utils import ParamDict\n",
    "import copy\n",
    "\n",
    "def instantiate(params_in, nonwrapped_env=None):\n",
    "    params = copy.deepcopy(params_in)\n",
    "\n",
    "    if nonwrapped_env is None:\n",
    "        nonwrapped_env = gym.make(params.env_name)\n",
    "\n",
    "    env = None\n",
    "    env = FlatObsWrapper(nonwrapped_env)    \n",
    "    obs_size = env.observation_space.shape[0]\n",
    "    print(env.observation_space.shape)\n",
    "    num_actions = env.action_space.n\n",
    "\n",
    "    rollouts = RolloutBuffer(params.rollout_size, obs_size)\n",
    "    policy_class = params.policy_params.pop('policy_class')\n",
    "    \n",
    "    policy = policy_class(obs_size, num_actions, **params.policy_params)\n",
    "    return env, rollouts, policy\n",
    "# env, rollouts, policy = instantiate(params)"
   ]
  },
  {
   "cell_type": "code",
   "execution_count": 23,
   "metadata": {},
   "outputs": [],
   "source": [
    "policy_params = ParamDict(\n",
    "    policy_class = Policy,    # Policy class to use (replaced later)     \n",
    "    hidden_dim = 32,          # dimension of the hidden state in actor network\n",
    "    learning_rate = 1e-3,     # learning rate of policy update\n",
    "    batch_size = 1024,        # batch size for policy update\n",
    "    policy_epochs = 4,        # number of epochs per policy update\n",
    "    entropy_coef = 0.001,     # hyperparameter to vary the contribution of entropy loss\n",
    ")\n",
    "params = ParamDict(\n",
    "    policy_params = policy_params,\n",
    "    rollout_size = 2050,      # number of collected rollout steps per policy update\n",
    "    num_updates = 50,         # number of training policy iterations\n",
    "    discount = 0.99,          # discount factor\n",
    "    plotting_iters = 10,      # interval for logging graphs and policy rollouts\n",
    "    env_name = 'MiniGrid-Empty-8x8-v0',  # we are using a tiny environment here for testing\n",
    ")"
   ]
  },
  {
   "cell_type": "code",
   "execution_count": 24,
   "metadata": {},
   "outputs": [
    {
     "name": "stdout",
     "output_type": "stream",
     "text": [
      "Training completed!\n"
     ]
    }
   ],
   "source": [
    "env, rollouts, policy = instantiate(params)\n",
    "rewards, success_rate = train(env, rollouts, policy, params)\n",
    "print(\"Training completed!\")"
   ]
  },
  {
   "cell_type": "code",
   "execution_count": 25,
   "metadata": {},
   "outputs": [
    {
     "data": {
      "image/png": "[encoded data removed]",
      "text/plain": [
       "<Figure size 1000x800 with 1 Axes>"
      ]
     },
     "metadata": {},
     "output_type": "display_data"
    },
    {
     "name": "stdout",
     "output_type": "stream",
     "text": [
      "Total reward: 0.784\n",
      "Total length: 12\n"
     ]
    },
    {
     "data": {
      "text/html": [
       "<video alt=\"test\" autoplay \n",
       "                loop controls style=\"height: 400px;\">\n",
       "                <source src=\"data:video/mp4;base64,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\" type=\"video/mp4\" />\n",
       "             </video>"
      ],
      "text/plain": [
       "<IPython.core.display.HTML object>"
      ]
     },
     "metadata": {},
     "output_type": "display_data"
    },
    {
     "name": "stdout",
     "output_type": "stream",
     "text": [
      "Total reward: 0.766\n",
      "Total length: 13\n"
     ]
    },
    {
     "data": {
      "text/html": [
       "<video alt=\"test\" autoplay \n",
       "                loop controls style=\"height: 400px;\">\n",
       "                <source src=\"data:video/mp4;base64,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\" type=\"video/mp4\" />\n",
       "             </video>"
      ],
      "text/plain": [
       "<IPython.core.display.HTML object>"
      ]
     },
     "metadata": {},
     "output_type": "display_data"
    },
    {
     "name": "stdout",
     "output_type": "stream",
     "text": [
      "Total reward: 0.784\n",
      "Total length: 12\n"
     ]
    },
    {
     "data": {
      "text/html": [
       "<video alt=\"test\" autoplay \n",
       "                loop controls style=\"height: 400px;\">\n",
       "                <source src=\"data:video/mp4;base64,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\" type=\"video/mp4\" />\n",
       "             </video>"
      ],
      "text/plain": [
       "<IPython.core.display.HTML object>"
      ]
     },
     "metadata": {},
     "output_type": "display_data"
    }
   ],
   "source": [
    "plot_learning_curve(rewards, success_rate, params.num_updates)\n",
    "for _ in range(3):\n",
    "    log_policy_rollout(policy, params.env_name, pytorch_policy=True)"
   ]
  },
  {
   "cell_type": "code",
   "execution_count": null,
   "metadata": {},
   "outputs": [],
   "source": []
  }
 ],
 "metadata": {
  "kernelspec": {
   "display_name": "Python 3.7.15 ('hrl')",
   "language": "python",
   "name": "python3"
  },
  "language_info": {
   "codemirror_mode": {
    "name": "ipython",
    "version": 3
   },
   "file_extension": ".py",
   "mimetype": "text/x-python",
   "name": "python",
   "nbconvert_exporter": "python",
   "pygments_lexer": "ipython3",
   "version": "3.7.15"
  },
  "orig_nbformat": 4,
  "vscode": {
   "interpreter": {
    "hash": "8dce199b1121964f736b5e0d8dbffd4ad9d2fad0989b2e71c0e90649dff827ec"
   }
  }
 },
 "nbformat": 4,
 "nbformat_minor": 2
}
