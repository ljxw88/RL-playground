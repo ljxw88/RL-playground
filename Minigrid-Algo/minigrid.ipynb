{
 "cells": [
  {
   "cell_type": "code",
   "execution_count": 1,
   "metadata": {},
   "outputs": [],
   "source": [
    "import numpy as np\n",
    "import matplotlib.pyplot as plt\n",
    "from pprint import pprint\n",
    "\n",
    "%matplotlib inline\n",
    "plt.rcParams['figure.figsize'] = (10.0, 8.0) # set default size of plots\n",
    "plt.rcParams['image.interpolation'] = 'nearest'\n",
    "plt.rcParams['image.cmap'] = 'gray'\n",
    "\n",
    "# for auto-reloading external modules\n",
    "# see http://stackoverflow.com/questions/1907993/autoreload-of-modules-in-ipython\n",
    "%load_ext autoreload\n",
    "%autoreload 2"
   ]
  },
  {
   "cell_type": "code",
   "execution_count": 2,
   "metadata": {},
   "outputs": [
    {
     "data": {
      "image/png": "[encoded data removed]",
      "text/plain": [
       "<Figure size 1000x800 with 1 Axes>"
      ]
     },
     "metadata": {},
     "output_type": "display_data"
    }
   ],
   "source": [
    "import gym\n",
    "import gym_minigrid\n",
    "\n",
    "env = gym.make('MiniGrid-Empty-5x5-v0')\n",
    "env.reset()\n",
    "before_img = env.render('rgb_array')\n",
    "action = env.actions.forward\n",
    "obs, reward, done, info = env.step(action)\n",
    "after_img = env.render('rgb_array')\n",
    "\n",
    "plt.imshow(np.concatenate([before_img, after_img], 1));"
   ]
  },
  {
   "cell_type": "code",
   "execution_count": 3,
   "metadata": {},
   "outputs": [
    {
     "name": "stdout",
     "output_type": "stream",
     "text": [
      "Observation: {'image': array([[[2, 5, 0],\n",
      "        [1, 0, 0],\n",
      "        [1, 0, 0],\n",
      "        [1, 0, 0],\n",
      "        [1, 0, 0],\n",
      "        [1, 0, 0],\n",
      "        [1, 0, 0]],\n",
      "\n",
      "       [[2, 5, 0],\n",
      "        [1, 0, 0],\n",
      "        [1, 0, 0],\n",
      "        [1, 0, 0],\n",
      "        [1, 0, 0],\n",
      "        [1, 0, 0],\n",
      "        [1, 0, 0]],\n",
      "\n",
      "       [[2, 5, 0],\n",
      "        [1, 0, 0],\n",
      "        [1, 0, 0],\n",
      "        [1, 0, 0],\n",
      "        [1, 0, 0],\n",
      "        [1, 0, 0],\n",
      "        [1, 0, 0]],\n",
      "\n",
      "       [[2, 5, 0],\n",
      "        [1, 0, 0],\n",
      "        [1, 0, 0],\n",
      "        [1, 0, 0],\n",
      "        [1, 0, 0],\n",
      "        [1, 0, 0],\n",
      "        [1, 0, 0]],\n",
      "\n",
      "       [[2, 5, 0],\n",
      "        [2, 5, 0],\n",
      "        [2, 5, 0],\n",
      "        [2, 5, 0],\n",
      "        [2, 5, 0],\n",
      "        [2, 5, 0],\n",
      "        [2, 5, 0]],\n",
      "\n",
      "       [[2, 5, 0],\n",
      "        [2, 5, 0],\n",
      "        [2, 5, 0],\n",
      "        [2, 5, 0],\n",
      "        [2, 5, 0],\n",
      "        [2, 5, 0],\n",
      "        [2, 5, 0]],\n",
      "\n",
      "       [[2, 5, 0],\n",
      "        [2, 5, 0],\n",
      "        [2, 5, 0],\n",
      "        [2, 5, 0],\n",
      "        [2, 5, 0],\n",
      "        [2, 5, 0],\n",
      "        [2, 5, 0]]], dtype=uint8), 'direction': 1, 'mission': 'get to the green goal square'}\n",
      "Reward: 0\n",
      "Done: False\n",
      "Info: {}\n",
      "Image shape: (256, 256, 3)\n"
     ]
    },
    {
     "data": {
      "image/png": "[encoded data removed]",
      "text/plain": [
       "<Figure size 1000x800 with 1 Axes>"
      ]
     },
     "metadata": {},
     "output_type": "display_data"
    }
   ],
   "source": [
    "env = gym.make('MiniGrid-Empty-8x8-v0')\n",
    "\n",
    "# Reset the environment\n",
    "env.reset()\n",
    "\n",
    "# Select the action right (sample action)\n",
    "action = env.actions.right\n",
    "\n",
    "# Take a step in the environment and store it in appropriate variables\n",
    "obs, reward, done, info = env.step(action)\n",
    "\n",
    "# Render the current state of the environment\n",
    "img = env.render('rgb_array')\n",
    "\n",
    "print('Observation:', obs)\n",
    "print('Reward:', reward)\n",
    "print('Done:', done)\n",
    "print('Info:', info)\n",
    "print('Image shape:', img.shape)\n",
    "plt.imshow(img);"
   ]
  },
  {
   "cell_type": "code",
   "execution_count": 4,
   "metadata": {},
   "outputs": [],
   "source": [
    "import base64\n",
    "import glob\n",
    "import io\n",
    "from IPython.display import HTML\n",
    "from IPython import display \n",
    "\n",
    "def show_video():\n",
    "    mp4list = glob.glob('video/*.mp4')\n",
    "    if len(mp4list) > 0:\n",
    "        mp4 = mp4list[0]\n",
    "        video = io.open(mp4, 'r+b').read()\n",
    "        encoded = base64.b64encode(video)\n",
    "        display.display(HTML(data='''<video alt=\"test\" autoplay \n",
    "                loop controls style=\"height: 400px;\">\n",
    "                <source src=\"data:video/mp4;base64,{0}\" type=\"video/mp4\" />\n",
    "             </video>'''.format(encoded.decode('ascii'))))\n",
    "    else:\n",
    "        print(\"Could not find video\")"
   ]
  },
  {
   "cell_type": "code",
   "execution_count": 5,
   "metadata": {},
   "outputs": [],
   "source": [
    "import gym\n",
    "from gym import spaces\n",
    "from gym_minigrid.minigrid import OBJECT_TO_IDX, COLOR_TO_IDX\n",
    "\n",
    "max_env_steps = 50\n",
    "\n",
    "class FlatObsWrapper(gym.core.ObservationWrapper):\n",
    "    \"\"\"Fully observable gridworld returning a flat grid encoding.\"\"\"\n",
    "\n",
    "    def __init__(self, env):\n",
    "        super().__init__(env)\n",
    "\n",
    "        # Since the outer walls are always present, we remove left, right, top, bottom walls\n",
    "        # from the observation space of the agent. There are 3 channels, but for simplicity\n",
    "        # in this assignment, we will deal with flattened version of state.\n",
    "        \n",
    "        self.observation_space = spaces.Box(\n",
    "            low=0,\n",
    "            high=255,\n",
    "            shape=((self.env.width-2) * (self.env.height-2) * 3,),  # number of cells\n",
    "            dtype='uint8'\n",
    "        )\n",
    "        self.unwrapped.max_steps = max_env_steps\n",
    "\n",
    "    def observation(self, obs):\n",
    "        # this method is called in the step() function to get the observation\n",
    "        # we provide code that gets the grid state and places the agent in it\n",
    "        env = self.unwrapped\n",
    "        full_grid = env.grid.encode()\n",
    "        full_grid[env.agent_pos[0]][env.agent_pos[1]] = np.array([\n",
    "            OBJECT_TO_IDX['agent'],\n",
    "            COLOR_TO_IDX['red'],\n",
    "            env.agent_dir\n",
    "        ])\n",
    "        full_grid = full_grid[1:-1, 1:-1]   # remove outer walls of the environment (for efficiency)\n",
    "        \n",
    "        flattened_grid = full_grid.ravel()\n",
    "        return flattened_grid\n",
    "    \n",
    "    def render(self, *args, **kwargs):\n",
    "        \"\"\"This removes the default visualization of the partially observable field of view.\"\"\"\n",
    "        kwargs['highlight'] = False\n",
    "        return self.unwrapped.render(*args, **kwargs)"
   ]
  },
  {
   "cell_type": "code",
   "execution_count": 6,
   "metadata": {},
   "outputs": [
    {
     "name": "stdout",
     "output_type": "stream",
     "text": [
      "Observation: [10  0  1  1  0  0  1  0  0  1  0  0  1  0  0  1  0  0  1  0  0  1  0  0\n",
      "  1  0  0  1  0  0  1  0  0  1  0  0  1  0  0  1  0  0  1  0  0  1  0  0\n",
      "  1  0  0  1  0  0  1  0  0  1  0  0  1  0  0  1  0  0  1  0  0  1  0  0\n",
      "  1  0  0  1  0  0  1  0  0  1  0  0  1  0  0  1  0  0  1  0  0  1  0  0\n",
      "  1  0  0  1  0  0  1  0  0  8  1  0] , Observation Shape:  (108,)\n",
      "Reward: 0\n",
      "Done: False\n",
      "Info: {}\n",
      "Image shape: (256, 256, 3)\n"
     ]
    },
    {
     "data": {
      "text/plain": [
       "<matplotlib.image.AxesImage at 0x23a3b053b48>"
      ]
     },
     "execution_count": 6,
     "metadata": {},
     "output_type": "execute_result"
    },
    {
     "data": {
      "image/png": "[encoded data removed]",
      "text/plain": [
       "<Figure size 1000x800 with 1 Axes>"
      ]
     },
     "metadata": {},
     "output_type": "display_data"
    }
   ],
   "source": [
    "env = FlatObsWrapper(gym.make('MiniGrid-Empty-8x8-v0'))\n",
    "\n",
    "# Reset the environment\n",
    "env.reset()\n",
    "\n",
    "# Select the action right\n",
    "action = env.actions.right\n",
    "\n",
    "# Take a step in the environment and store it in appropriate variables\n",
    "obs, reward, done, info = env.step(action)\n",
    "\n",
    "# Render the current state of the environment\n",
    "img = env.render('rgb_array')\n",
    "################# YOUR CODE ENDS HERE ###############################\n",
    "\n",
    "print('Observation:', obs, ', Observation Shape: ', obs.shape)\n",
    "print('Reward:', reward)\n",
    "print('Done:', done)\n",
    "print('Info:', info)\n",
    "print('Image shape:', img.shape)\n",
    "plt.imshow(img)"
   ]
  },
  {
   "cell_type": "code",
   "execution_count": 7,
   "metadata": {},
   "outputs": [],
   "source": [
    "from gym.wrappers import Monitor\n",
    "\n",
    "# Monitor is a gym wrapper, which helps easy rendering of videos of the wrapped environment.\n",
    "def wrap_env(env):\n",
    "    env = Monitor(env, './video', force=True)\n",
    "    return env\n",
    "\n",
    "def gen_wrapped_env(env_name):\n",
    "    return wrap_env(FlatObsWrapper(gym.make(env_name)))"
   ]
  },
  {
   "cell_type": "code",
   "execution_count": 8,
   "metadata": {},
   "outputs": [],
   "source": [
    "class RandPolicy:\n",
    "    def __init__(self, action_space):\n",
    "        self.action_space = action_space\n",
    "        \n",
    "    def act(self, *unused_args):\n",
    "        return self.action_space.sample(), None"
   ]
  },
  {
   "cell_type": "code",
   "execution_count": 9,
   "metadata": {},
   "outputs": [
    {
     "name": "stderr",
     "output_type": "stream",
     "text": [
      "c:\\Users\\15014\\anaconda3\\envs\\hrl\\lib\\site-packages\\tqdm\\auto.py:22: TqdmWarning: IProgress not found. Please update jupyter and ipywidgets. See https://ipywidgets.readthedocs.io/en/stable/user_install.html\n",
      "  from .autonotebook import tqdm as notebook_tqdm\n"
     ]
    },
    {
     "name": "stdout",
     "output_type": "stream",
     "text": [
      "Total reward: 0\n",
      "Total length: 50\n"
     ]
    },
    {
     "data": {
      "text/html": [
       "<video alt=\"test\" autoplay \n",
       "                loop controls style=\"height: 400px;\">\n",
       "                <source src=\"data:video/mp4;base64,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\" type=\"video/mp4\" />\n",
       "             </video>"
      ],
      "text/plain": [
       "<IPython.core.display.HTML object>"
      ]
     },
     "metadata": {},
     "output_type": "display_data"
    }
   ],
   "source": [
    "import torch\n",
    "def log_policy_rollout(policy, env_name, pytorch_policy=False):\n",
    "    # Create environment with flat observation\n",
    "    env = gen_wrapped_env(env_name)\n",
    "\n",
    "    # Initialize environment\n",
    "    observation = env.reset()\n",
    "\n",
    "    done = False\n",
    "    episode_reward = 0\n",
    "    episode_length = 0\n",
    "\n",
    "    # Run until done == True\n",
    "    while not done:\n",
    "      # Take a step\n",
    "        if pytorch_policy: \n",
    "            observation = torch.tensor(observation, dtype=torch.float32)\n",
    "            action = policy.act(observation)[0].data.cpu().numpy()\n",
    "        else:\n",
    "            action = policy.act(observation)[0]\n",
    "        observation, reward, done, info = env.step(action)\n",
    "\n",
    "        episode_reward += reward\n",
    "        episode_length += 1\n",
    "\n",
    "    print('Total reward:', episode_reward)\n",
    "    print('Total length:', episode_length)\n",
    "\n",
    "    env.close()\n",
    "    \n",
    "    show_video()\n",
    "\n",
    "# Test that the logging function is working\n",
    "test_env_name = 'MiniGrid-Empty-8x8-v0'\n",
    "rand_policy = RandPolicy(FlatObsWrapper(gym.make(test_env_name)).action_space)\n",
    "log_policy_rollout(rand_policy, test_env_name)"
   ]
  },
  {
   "cell_type": "code",
   "execution_count": 10,
   "metadata": {},
   "outputs": [],
   "source": [
    "from torch.utils.data.sampler import BatchSampler, SubsetRandomSampler\n",
    "\n",
    "class RolloutBuffer():\n",
    "    def __init__(self, rollout_size, obs_size):\n",
    "        self.rollout_size = rollout_size\n",
    "        self.obs_size = obs_size\n",
    "        self.reset()\n",
    "        \n",
    "    def insert(self, step, done, action, log_prob, reward, obs):    \n",
    "        self.done[step].copy_(done)\n",
    "        self.actions[step].copy_(action)\n",
    "        self.log_probs[step].copy_(log_prob)\n",
    "        self.rewards[step].copy_(reward)\n",
    "        self.obs[step].copy_(obs)\n",
    "        \n",
    "    def reset(self):\n",
    "        self.done = torch.zeros(self.rollout_size, 1)\n",
    "        self.returns = torch.zeros(self.rollout_size + 1, 1, requires_grad=False)\n",
    "        # Assuming Discrete Action Space\n",
    "        self.actions = torch.zeros(self.rollout_size, 1, dtype=torch.int64)  \n",
    "        self.log_probs = torch.zeros(self.rollout_size, 1)\n",
    "        self.rewards = torch.zeros(self.rollout_size, 1)\n",
    "        self.obs = torch.zeros(self.rollout_size, self.obs_size)\n",
    "        \n",
    "    def compute_returns(self, gamma):\n",
    "        # Compute Returns until the last finished episode\n",
    "        self.last_done = (self.done == 1).nonzero().max()  \n",
    "        self.returns[self.last_done + 1] = 0.\n",
    "\n",
    "        # Accumulate discounted returns\n",
    "        for step in reversed(range(self.last_done + 1)):\n",
    "            self.returns[step] = self.returns[step + 1] * \\\n",
    "                gamma * (1 - self.done[step]) + self.rewards[step]\n",
    "        \n",
    "    def batch_sampler(self, batch_size, get_old_log_probs=False):\n",
    "        sampler = BatchSampler(\n",
    "            SubsetRandomSampler(range(self.last_done)),\n",
    "            batch_size,\n",
    "            drop_last=True)\n",
    "        for indices in sampler:\n",
    "            if get_old_log_probs:\n",
    "                yield self.actions[indices], self.returns[indices], self.obs[indices], self.log_probs[indices]\n",
    "            else:\n",
    "                yield self.actions[indices], self.returns[indices], self.obs[indices]"
   ]
  },
  {
   "cell_type": "code",
   "execution_count": 11,
   "metadata": {},
   "outputs": [],
   "source": [
    "import torch\n",
    "import torch.nn as nn\n",
    "\n",
    "class ActorNetwork(nn.Module):\n",
    "    def __init__(self, num_inputs, num_actions, hidden_dim):\n",
    "        super().__init__()\n",
    "        self.num_actions = num_actions\n",
    "        \n",
    "        self.fc = nn.Sequential(\n",
    "            nn.Linear(num_inputs, hidden_dim),\n",
    "            nn.Tanh(),\n",
    "            nn.Linear(hidden_dim, hidden_dim),\n",
    "            nn.Tanh(),\n",
    "            nn.Linear(hidden_dim, num_actions)\n",
    "        )\n",
    "        \n",
    "    def forward(self, state):\n",
    "        x = self.fc(state)\n",
    "        return x"
   ]
  },
  {
   "cell_type": "code",
   "execution_count": 12,
   "metadata": {},
   "outputs": [],
   "source": [
    "import torch.optim as optim\n",
    "import torch.nn.functional as F\n",
    "from torch.distributions.categorical import Categorical\n",
    "from utils.utils import count_model_params\n",
    "\n",
    "class Policy():\n",
    "    def __init__(self, num_inputs, num_actions, hidden_dim, learning_rate,\n",
    "                 batch_size, policy_epochs, entropy_coef=0.001):\n",
    "        self.actor = ActorNetwork(num_inputs, num_actions, hidden_dim)\n",
    "        self.optimizer = optim.Adam(self.actor.parameters(), lr=learning_rate)\n",
    "        self.batch_size = batch_size\n",
    "        self.policy_epochs = policy_epochs\n",
    "        self.entropy_coef = entropy_coef\n",
    "\n",
    "    def act(self, state):\n",
    "        logits = self.actor(state)\n",
    "        # To generate the probability of action, we assume its state has categorical distribution.\n",
    "        dist = Categorical(logits=logits)\n",
    "        action = dist.sample()\n",
    "        log_prob = dist.log_prob(action)\n",
    "        return action, log_prob\n",
    "    \n",
    "    def evaluate_actions(self, state, action):\n",
    "        logits = self.actor(state)\n",
    "        dist = Categorical(logits=logits)\n",
    "        log_prob = dist.log_prob(action.squeeze(-1)).view(-1, 1)\n",
    "        entropy = dist.entropy().view(-1, 1)\n",
    "        return log_prob, entropy\n",
    "    \n",
    "    def update(self, rollouts):\n",
    "        for epoch in range(self.policy_epochs):\n",
    "            data = rollouts.batch_sampler(self.batch_size)\n",
    "            \n",
    "            for sample in data:\n",
    "                actions_batch, returns_batch, obs_batch = sample\n",
    "    \n",
    "                log_probs_batch, entropy_batch = self.evaluate_actions(obs_batch, actions_batch)\n",
    "    \n",
    "                # Compute the mean loss for the policy update using \n",
    "                # action log-probabilities and policy returns\n",
    "                policy_loss = -(log_probs_batch * returns_batch).mean()\n",
    "                # Compute the mean entropy for the policy update \n",
    "                entropy_loss = -entropy_batch.mean()\n",
    "                \n",
    "                loss = policy_loss + self.entropy_coef * entropy_loss\n",
    "                \n",
    "                self.optimizer.zero_grad()\n",
    "                loss.backward(retain_graph=False)\n",
    "                self.optimizer.step()\n",
    "                \n",
    "    @property\n",
    "    def num_params(self):\n",
    "        return count_model_params(self.actor)"
   ]
  },
  {
   "cell_type": "code",
   "execution_count": 13,
   "metadata": {},
   "outputs": [],
   "source": [
    "import torch.optim as optim\n",
    "import torch.nn.functional as F\n",
    "from torch.distributions.categorical import Categorical\n",
    "from utils.utils import count_model_params\n",
    "\n",
    "class Policy():\n",
    "    def __init__(self, num_inputs, num_actions, hidden_dim, learning_rate,\n",
    "                 batch_size, policy_epochs, entropy_coef=0.001):\n",
    "        self.actor = ActorNetwork(num_inputs, num_actions, hidden_dim)\n",
    "        self.optimizer = optim.Adam(self.actor.parameters(), lr=learning_rate)\n",
    "        self.batch_size = batch_size\n",
    "        self.policy_epochs = policy_epochs\n",
    "        self.entropy_coef = entropy_coef\n",
    "\n",
    "    def act(self, state):\n",
    "        logits = self.actor(state)\n",
    "        # To generate the probability of action, we assume its state has categorical distribution.\n",
    "        dist = Categorical(logits=logits)\n",
    "        action = dist.sample()\n",
    "        log_prob = dist.log_prob(action)\n",
    "        return action, log_prob\n",
    "    \n",
    "    def evaluate_actions(self, state, action):\n",
    "        logits = self.actor(state)\n",
    "        dist = Categorical(logits=logits)\n",
    "        log_prob = dist.log_prob(action.squeeze(-1)).view(-1, 1)\n",
    "        entropy = dist.entropy().view(-1, 1)\n",
    "        return log_prob, entropy\n",
    "    \n",
    "    def update(self, rollouts):\n",
    "        for epoch in range(self.policy_epochs):\n",
    "            data = rollouts.batch_sampler(self.batch_size)\n",
    "            \n",
    "            for sample in data:\n",
    "                actions_batch, returns_batch, obs_batch = sample\n",
    "    \n",
    "                log_probs_batch, entropy_batch = self.evaluate_actions(obs_batch, actions_batch)\n",
    "    \n",
    "                # Compute the mean loss for the policy update using \n",
    "                # action log-probabilities and policy returns\n",
    "                policy_loss = -(log_probs_batch * returns_batch).mean()\n",
    "                # Compute the mean entropy for the policy update \n",
    "                entropy_loss = -entropy_batch.mean()\n",
    "                \n",
    "                loss = policy_loss + self.entropy_coef * entropy_loss\n",
    "                \n",
    "                self.optimizer.zero_grad()\n",
    "                loss.backward(retain_graph=False)\n",
    "                self.optimizer.step()\n",
    "                \n",
    "    @property\n",
    "    def num_params(self):\n",
    "        return count_model_params(self.actor)\n",
    "from IPython.display import clear_output\n",
    "from utils.utils import AverageMeter, plot_learning_curve\n",
    "import time\n",
    "\n",
    "def train(env, rollouts, policy, params, seed=123):\n",
    "    # SETTING SEED: it is good practice to set seeds when running experiments to keep results comparable\n",
    "    np.random.seed(seed)\n",
    "    torch.manual_seed(seed)\n",
    "    env.seed(seed)\n",
    "\n",
    "    rollout_time, update_time = AverageMeter(), AverageMeter()  # Loggers\n",
    "    rewards, success_rate = [], []\n",
    "\n",
    "    print(\"Training model with {} parameters...\".format(policy.num_params))\n",
    "\n",
    "    # Training Loop\n",
    "    for j in range(params.num_updates):\n",
    "        ## Initialization\n",
    "        avg_eps_reward, avg_success_rate = AverageMeter(), AverageMeter()\n",
    "        done = False\n",
    "        prev_obs = env.reset()\n",
    "        prev_obs = torch.tensor(prev_obs, dtype=torch.float32)\n",
    "        eps_reward = 0.\n",
    "        start_time = time.time()\n",
    "        \n",
    "        ## Collect rollouts\n",
    "        for step in range(rollouts.rollout_size):\n",
    "            if done:\n",
    "                # Store episode statistics\n",
    "                avg_eps_reward.update(eps_reward)\n",
    "                if 'success' in info: \n",
    "                    avg_success_rate.update(int(info['success']))\n",
    "\n",
    "                # Reset Environment\n",
    "                obs = env.reset()\n",
    "                obs = torch.tensor(obs, dtype=torch.float32)\n",
    "                eps_reward = 0.\n",
    "            else:\n",
    "                obs = prev_obs\n",
    "\n",
    "            action, log_prob = policy.act(obs)\n",
    "            obs, reward, done, info = env.step(action)\n",
    "\n",
    "            rollouts.insert(step, torch.tensor(done, dtype=torch.float32), action, log_prob, \n",
    "                            torch.tensor(reward, dtype=torch.float32), \n",
    "                            prev_obs)\n",
    "            \n",
    "            prev_obs = torch.tensor(obs, dtype=torch.float32)\n",
    "            eps_reward += reward\n",
    "        \n",
    "        # Use the rollout buffer's function to compute the returns for all stored rollout steps. (requires just 1 line)\n",
    "        rollouts.compute_returns(params['discount'])\n",
    "        \n",
    "        rollout_done_time = time.time()\n",
    "\n",
    "        \n",
    "        # Call the policy's update function using the collected rollouts        \n",
    "        policy.update(rollouts)\n",
    "\n",
    "        update_done_time = time.time()\n",
    "        rollouts.reset()\n",
    "\n",
    "        ## log metrics\n",
    "        rewards.append(avg_eps_reward.avg)\n",
    "        if avg_success_rate.count > 0:\n",
    "            success_rate.append(avg_success_rate.avg)\n",
    "        rollout_time.update(rollout_done_time - start_time)\n",
    "        update_time.update(update_done_time - rollout_done_time)\n",
    "        print('it {}: avgR: {:.3f} -- rollout_time: {:.3f}sec -- update_time: {:.3f}sec'.format(j, \n",
    "                                                                                                avg_eps_reward.avg, \n",
    "                                                                                                rollout_time.avg,\n",
    "                                                                                                update_time.avg))\n",
    "        if j % params.plotting_iters == 0 and j != 0:\n",
    "            plot_learning_curve(rewards, success_rate, params.num_updates)\n",
    "            log_policy_rollout(policy, params.env_name, pytorch_policy=True)\n",
    "    clear_output()   # this removes all training outputs to keep the notebook clean, DON'T REMOVE THIS LINE!\n",
    "    return rewards, success_rate"
   ]
  },
  {
   "cell_type": "code",
   "execution_count": 14,
   "metadata": {},
   "outputs": [],
   "source": [
    "from utils.utils import ParamDict\n",
    "import copy\n",
    "\n",
    "def instantiate(params_in, nonwrapped_env=None):\n",
    "    params = copy.deepcopy(params_in)\n",
    "\n",
    "    if nonwrapped_env is None:\n",
    "        nonwrapped_env = gym.make(params.env_name)\n",
    "\n",
    "    env = None\n",
    "    env = FlatObsWrapper(nonwrapped_env)    \n",
    "    obs_size = env.observation_space.shape[0]\n",
    "    num_actions = env.action_space.n\n",
    "\n",
    "    rollouts = RolloutBuffer(params.rollout_size, obs_size)\n",
    "    policy_class = params.policy_params.pop('policy_class')\n",
    "    \n",
    "    policy = policy_class(obs_size, num_actions, **params.policy_params)\n",
    "    return env, rollouts, policy"
   ]
  },
  {
   "cell_type": "code",
   "execution_count": 15,
   "metadata": {},
   "outputs": [],
   "source": [
    "policy_params = ParamDict(\n",
    "    policy_class = Policy,    # Policy class to use (replaced later)     \n",
    "    hidden_dim = 32,          # dimension of the hidden state in actor network\n",
    "    learning_rate = 1e-3,     # learning rate of policy update\n",
    "    batch_size = 1024,        # batch size for policy update\n",
    "    policy_epochs = 4,        # number of epochs per policy update\n",
    "    entropy_coef = 0.001,     # hyperparameter to vary the contribution of entropy loss\n",
    ")\n",
    "params = ParamDict(\n",
    "    policy_params = policy_params,\n",
    "    rollout_size = 2050,      # number of collected rollout steps per policy update\n",
    "    num_updates = 50,         # number of training policy iterations\n",
    "    discount = 0.99,          # discount factor\n",
    "    plotting_iters = 10,      # interval for logging graphs and policy rollouts\n",
    "    env_name = 'MiniGrid-Empty-5x5-v0',  # we are using a tiny environment here for testing\n",
    ")"
   ]
  },
  {
   "cell_type": "code",
   "execution_count": 16,
   "metadata": {},
   "outputs": [
    {
     "name": "stdout",
     "output_type": "stream",
     "text": [
      "Training completed!\n"
     ]
    }
   ],
   "source": [
    "env, rollouts, policy = instantiate(params)\n",
    "rewards, success_rate = train(env, rollouts, policy, params)\n",
    "print(\"Training completed!\")"
   ]
  },
  {
   "cell_type": "code",
   "execution_count": 17,
   "metadata": {},
   "outputs": [
    {
     "data": {
      "image/png": "[encoded data removed]",
      "text/plain": [
       "<Figure size 1000x800 with 1 Axes>"
      ]
     },
     "metadata": {},
     "output_type": "display_data"
    },
    {
     "name": "stdout",
     "output_type": "stream",
     "text": [
      "Total reward: 0.694\n",
      "Total length: 17\n"
     ]
    },
    {
     "data": {
      "text/html": [
       "<video alt=\"test\" autoplay \n",
       "                loop controls style=\"height: 400px;\">\n",
       "                <source src=\"data:video/mp4;base64,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\" type=\"video/mp4\" />\n",
       "             </video>"
      ],
      "text/plain": [
       "<IPython.core.display.HTML object>"
      ]
     },
     "metadata": {},
     "output_type": "display_data"
    },
    {
     "name": "stdout",
     "output_type": "stream",
     "text": [
      "Total reward: 0.892\n",
      "Total length: 6\n"
     ]
    },
    {
     "data": {
      "text/html": [
       "<video alt=\"test\" autoplay \n",
       "                loop controls style=\"height: 400px;\">\n",
       "                <source src=\"data:video/mp4;base64,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\" type=\"video/mp4\" />\n",
       "             </video>"
      ],
      "text/plain": [
       "<IPython.core.display.HTML object>"
      ]
     },
     "metadata": {},
     "output_type": "display_data"
    },
    {
     "name": "stdout",
     "output_type": "stream",
     "text": [
      "Total reward: 0.838\n",
      "Total length: 9\n"
     ]
    },
    {
     "data": {
      "text/html": [
       "<video alt=\"test\" autoplay \n",
       "                loop controls style=\"height: 400px;\">\n",
       "                <source src=\"data:video/mp4;base64,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\" type=\"video/mp4\" />\n",
       "             </video>"
      ],
      "text/plain": [
       "<IPython.core.display.HTML object>"
      ]
     },
     "metadata": {},
     "output_type": "display_data"
    }
   ],
   "source": [
    "plot_learning_curve(rewards, success_rate, params.num_updates)\n",
    "for _ in range(3):\n",
    "    log_policy_rollout(policy, params.env_name, pytorch_policy=True)"
   ]
  },
  {
   "cell_type": "code",
   "execution_count": null,
   "metadata": {},
   "outputs": [],
   "source": []
  }
 ],
 "metadata": {
  "kernelspec": {
   "display_name": "Python 3.7.15 ('hrl')",
   "language": "python",
   "name": "python3"
  },
  "language_info": {
   "codemirror_mode": {
    "name": "ipython",
    "version": 3
   },
   "file_extension": ".py",
   "mimetype": "text/x-python",
   "name": "python",
   "nbconvert_exporter": "python",
   "pygments_lexer": "ipython3",
   "version": "3.7.15"
  },
  "orig_nbformat": 4,
  "vscode": {
   "interpreter": {
    "hash": "2d2089530808138a228c90b1356102a6cd6c423da864fdca2a8341ddfed1e2b3"
   }
  }
 },
 "nbformat": 4,
 "nbformat_minor": 2
}
